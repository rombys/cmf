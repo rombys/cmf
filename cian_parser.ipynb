{
 "cells": [
  {
   "cell_type": "code",
   "execution_count": 56,
   "metadata": {
    "collapsed": true
   },
   "outputs": [],
   "source": [
    "#Библиотеки\n",
    "import requests\n",
    "import re\n",
    "from bs4 import BeautifulSoup\n",
    "import pandas as pd\n",
    "import time\n",
    "import numpy as np"
   ]
  },
  {
   "cell_type": "code",
   "execution_count": 57,
   "metadata": {
    "collapsed": true
   },
   "outputs": [],
   "source": [
    "#Удаление хтмл тэгов\n",
    "def html_stripper(text):\n",
    "    return re.sub('<[^<]+?>', '', str(text))"
   ]
  },
  {
   "cell_type": "code",
   "execution_count": 59,
   "metadata": {
    "collapsed": true
   },
   "outputs": [],
   "source": [
    "#Извлечение цены\n",
    "def getPrice(flat_page):\n",
    "    price = flat_page.find('div', attrs={'class':'object_descr_price'})\n",
    "    price = re.split('<div>|руб|\\W', str(price))\n",
    "    price = \"\".join([i for i in price if i.isdigit()][-3:])\n",
    "    return int(price)"
   ]
  },
  {
   "cell_type": "code",
   "execution_count": 60,
   "metadata": {
    "collapsed": false
   },
   "outputs": [
    {
     "data": {
      "text/plain": [
       "7990000"
      ]
     },
     "execution_count": 60,
     "metadata": {},
     "output_type": "execute_result"
    }
   ],
   "source": [
    "getPrice(flat_page)"
   ]
  },
  {
   "cell_type": "code",
   "execution_count": null,
   "metadata": {
    "collapsed": true
   },
   "outputs": [],
   "source": [
    "#Количество комнат\n",
    "def getRoom(flat_page):\n",
    "    rooms = flat_page.find('div', attrs={'class':'object_descr_title'})\n",
    "    rooms = html_stripper(rooms)\n",
    "    room_number = ''\n",
    "    for i in re.split('-|\\n', rooms):\n",
    "        if 'комн' in i:\n",
    "            break\n",
    "        else:\n",
    "            room_number += i\n",
    "    room_number = \"\".join(room_number.split())\n",
    "    if room_number == '':\n",
    "        room_number = '0'\n",
    "    return float(room_number)"
   ]
  },
  {
   "cell_type": "code",
   "execution_count": null,
   "metadata": {
    "collapsed": true
   },
   "outputs": [],
   "source": [
    "#Расстояние от центра\n",
    "def getDist(flat_page):\n",
    "    coords = flat_page.find('div', attrs={'class':'map_info_button_extend'}).contents[1]\n",
    "    coords = re.split('&amp|center=|%2C', str(coords))\n",
    "    coords_list = []\n",
    "    for item in coords:\n",
    "        if item[0].isdigit():\n",
    "            coords_list.append(item)\n",
    "    lat = float(coords_list[0])\n",
    "    lon = float(coords_list[1])\n",
    "    center_lat = 55.75370903771494 # координаты Красной площади\n",
    "    center_lon = 37.61981338262558 \n",
    "    dist = 111.2*((lat-center_lat)**2 + (lon-center_lon)**2)**0.5\n",
    "    return dist"
   ]
  },
  {
   "cell_type": "code",
   "execution_count": null,
   "metadata": {
    "collapsed": true
   },
   "outputs": [],
   "source": [
    "# этаж, этажность, общ.пл., жил.пл., тип дома, тип жилья, балкон, телефон\n",
    "\n",
    "def getTable(flat_page):\n",
    "    table = flat_page.find('table', attrs = {'class':'object_descr_props'})\n",
    "    table = html_stripper(table)\n",
    "    \n",
    "    # этаж\n",
    "    etaz = re.split('Этаж|Тип дома', table)[1]\n",
    "    etaz = re.sub(\"[^0-9,/]\", \"\", etaz)\n",
    "    \n",
    "    # этаж/этажность\n",
    "    etaz_num = float(etaz.split(\"/\")[0])\n",
    "    if etaz.find('/') == -1:\n",
    "        etaz_all= 0\n",
    "    else:\n",
    "        etaz_all = float(etaz.split(\"/\")[1])\n",
    "    \n",
    "    # тип дома  и новизна\n",
    "    htype = re.split('Тип дома|Тип продажи', table)[1]\n",
    "    new_flat =0\n",
    "    if htype.find('втор') != -1:\n",
    "        new_flat = 1\n",
    "    else:\n",
    "        new_flat = 0\n",
    "    house_type = 0\n",
    "    if (htype.find('кирп') != -1) or (htype.find('монол') != -1) :\n",
    "        house_type = 1\n",
    "    else: house_type = 0\n",
    "        \n",
    "    # площадь\n",
    "    tot_square = re.split('Общая площадь|\\xa0м2', table)[1] \n",
    "    tot_square = tot_square.replace(',','.')\n",
    "    if re.sub(\"[^0-9\\.]\", \"\", tot_square) == '':\n",
    "        tot_square = 0\n",
    "    else: \n",
    "        tot_square = float(re.sub(\"[^0123456789\\.]\", \"\", tot_square))\n",
    "    \n",
    "    #кухня\n",
    "    kitchen = re.split('Площадь кухни|ануз', table)[1]\n",
    "    if re.sub(\"[^0-9]\", \"\", kitchen) == '' :\n",
    "        kitchen = 0\n",
    "    else:\n",
    "        kitchen = re.sub(r'\\s', '', kitchen) \n",
    "        kitchen = kitchen.split(\"м\")[0]\n",
    "        kitchen = re.sub(\"[^0-9,]\", \"\", kitchen)\n",
    "        kitchen = float(kitchen.replace(',','.'))\n",
    "        \n",
    "    # жилая площадь\n",
    "    lsquare = re.split('Жилая площадь|Площадь кухни', table)[1]\n",
    "    lsquare = re.sub(r'\\s', '', lsquare) \n",
    "    lsquare = lsquare.split(\"м\")[0]\n",
    "    lsquare = re.sub(\"[^0-9,]\", \"\", lsquare)\n",
    "    lsquare\n",
    "    if lsquare != '':\n",
    "        lsquare = float(lsquare.replace(',','.'))\n",
    "    else: lsquare = 0\n",
    "    \n",
    "    #балкон\n",
    "    balcon = re.split('Балкон|Лифт', table)[1]\n",
    "    balcon_flag = 0\n",
    "    if (balcon.find('нет') != -1) or (balcon.find('–') != -1):\n",
    "        balcon_flag = 0\n",
    "    else:\n",
    "        balcon_flag = 1\n",
    "    \n",
    "    #Телефон \n",
    "    phone = 0\n",
    "    buff = ''\n",
    "    if table.find('Телеф') == -1:\n",
    "        phone =0\n",
    "    else : \n",
    "        buff = re.split('Телефон|Вид', table)[1]\n",
    "        if buff.find('да') != -1:\n",
    "            phone =0\n",
    "        else:\n",
    "            phone = 1\n",
    "    return etaz_all, etaz_num, new_flat, tot_square, balcon_flag, house_type, lsquare, kitchen, phone\n"
   ]
  },
  {
   "cell_type": "code",
   "execution_count": null,
   "metadata": {
    "collapsed": true
   },
   "outputs": [],
   "source": [
    "# извлечение ближайшего метро, времени до метро, пешком\\транспорт\n",
    "\n",
    "def getMetro(flat_page):\n",
    "    metro = flat_page.find('div', attrs={'class':'object_descr_metro'})\n",
    "    metro = html_stripper(metro)\n",
    "    metro_name = ''\n",
    "    for i in re.split('\\n|,', metro):\n",
    "        if ' ' in i:\n",
    "            break\n",
    "        else:\n",
    "            metro_name += i\n",
    "    metro_name = \"\".join(metro_name.split())\n",
    "    metro_time =''\n",
    "    for i in re.split(',|\\n ', metro):\n",
    "        if 'мин.' in i:\n",
    "            break\n",
    "        else:\n",
    "            metro_time += i\n",
    "    metro_time = \"\".join(metro_time.split())\n",
    "    metro_time = re.sub(\"[^0-9]\", \"\", metro_time)\n",
    "    metro_time = metro_time.replace('1905','') # специально для метро 1905 года\n",
    "    if metro_time == '':\n",
    "        metro_time = '0'\n",
    "    metro_walk = 0\n",
    "    if metro.find('пешком') != -1:\n",
    "        metro_walk = 1\n",
    "    else:\n",
    "        metro_walk = 0\n",
    "    return float(metro_time), metro_walk"
   ]
  },
  {
   "cell_type": "code",
   "execution_count": null,
   "metadata": {
    "collapsed": true
   },
   "outputs": [],
   "source": [
    "#функция парсинга всего\n",
    "\n",
    "def my_pars(flat_url):\n",
    "    flat_page = requests.get(flat_url)\n",
    "    flat_page = flat_page.content\n",
    "    flat_page = BeautifulSoup(flat_page, 'lxml')\t\n",
    "    flatStats = {'District':0}  # заводим объект , округ = 0\n",
    "    flatStats['Rooms'] = getRoom(flat_page)\n",
    "    flatStats['Price'] = getPrice(flat_page)\n",
    "    flatStats['Dist'] = getDist(flat_page)\n",
    "    flatStats['Nfloors'], flatStats['Floor'], flatStats['New'], flatStats['Totsp'], flatStats['Bal'], flatStats['Brick'], flatStats['Livesp'], flatStats['Kitsp'], flatStats['Tel'] = getTable(flat_page)\n",
    "    flatStats['Metrdist'], flatStats['Walk'] = getMetro(flat_page)\n",
    "    flatStats['url'] = flat_url\t\n",
    "    return flatStats['Rooms'], flatStats['Price'], flatStats['Totsp'], flatStats['Livesp'], flatStats['Kitsp'], flatStats['Dist'], flatStats['Metrdist'], flatStats['Walk']\t, flatStats['Brick'], flatStats['Tel'], flatStats['Bal'], flatStats['Floor'], flatStats['Nfloors'], flatStats['New'], flatStats['url']\n"
   ]
  },
  {
   "cell_type": "code",
   "execution_count": null,
   "metadata": {
    "collapsed": true
   },
   "outputs": [],
   "source": [
    "# Начало программы. Записываем все округа\n",
    "districts=['','','','','','','','','','','','']\n",
    "\n",
    "#ЦАО    \n",
    "districts[0] = 'http://www.cian.ru/cat.php?deal_type=sale&district%5B0%5D=13&district%5B1%5D=14&district%5B2%5D=15&district%5B3%5D=16&district%5B4%5D=17&district%5B5%5D=18&district%5B6%5D=19&district%5B7%5D=20&district%5B8%5D=21&district%5B9%5D=22&engine_version=2&offer_type=flat&p={}&room1=1&room2=1&room3=1&room4=1&room5=1&room6=1'    \n",
    "#САО\n",
    "districts[1] = 'http://www.cian.ru/cat.php?deal_type=sale&district%5B0%5D=23&district%5B10%5D=33&district%5B11%5D=34&district%5B12%5D=35&district%5B13%5D=36&district%5B14%5D=37&district%5B15%5D=38&district%5B1%5D=24&district%5B2%5D=25&district%5B3%5D=26&district%5B4%5D=27&district%5B5%5D=28&district%5B6%5D=29&district%5B7%5D=30&district%5B8%5D=31&district%5B9%5D=32&engine_version=2&offer_type=flat&p={}&room1=1&room2=1&room3=1&room4=1&room5=1&room6=1'\n",
    "#СВАО\n",
    "districts[2] = 'http://www.cian.ru/cat.php?deal_type=sale&district%5B0%5D=39&district%5B10%5D=49&district%5B11%5D=50&district%5B12%5D=51&district%5B13%5D=52&district%5B14%5D=53&district%5B15%5D=54&district%5B16%5D=55&district%5B1%5D=40&district%5B2%5D=41&district%5B3%5D=42&district%5B4%5D=43&district%5B5%5D=44&district%5B6%5D=45&district%5B7%5D=46&district%5B8%5D=47&district%5B9%5D=48&engine_version=2&offer_type=flat&p={}&room1=1&room2=1&room3=1&room4=1&room5=1&room6=1'\n",
    "#ВАО\n",
    "districts[3] = 'http://www.cian.ru/cat.php?deal_type=sale&district%5B0%5D=56&district%5B10%5D=66&district%5B11%5D=67&district%5B12%5D=68&district%5B13%5D=69&district%5B14%5D=70&district%5B15%5D=71&district%5B1%5D=57&district%5B2%5D=58&district%5B3%5D=59&district%5B4%5D=60&district%5B5%5D=61&district%5B6%5D=62&district%5B7%5D=63&district%5B8%5D=64&district%5B9%5D=65&engine_version=2&offer_type=flat&p={}&room1=1&room2=1&room3=1&room4=1&room5=1&room6=1'\n",
    "#ЮВАО\n",
    "districts[4] = 'http://www.cian.ru/cat.php?deal_type=sale&district%5B0%5D=72&district%5B10%5D=82&district%5B11%5D=83&district%5B1%5D=73&district%5B2%5D=74&district%5B3%5D=75&district%5B4%5D=76&district%5B5%5D=77&district%5B6%5D=78&district%5B7%5D=79&district%5B8%5D=80&district%5B9%5D=81&engine_version=2&offer_type=flat&p={}&room1=1&room2=1&room3=1&room4=1&room5=1&room6=1'\n",
    "#ЮАО\n",
    "districts[5] = 'http://www.cian.ru/cat.php?deal_type=sale&district%5B0%5D=84&district%5B10%5D=94&district%5B11%5D=95&district%5B12%5D=96&district%5B13%5D=97&district%5B14%5D=98&district%5B15%5D=99&district%5B1%5D=85&district%5B2%5D=86&district%5B3%5D=87&district%5B4%5D=88&district%5B5%5D=89&district%5B6%5D=90&district%5B7%5D=91&district%5B8%5D=92&district%5B9%5D=93&engine_version=2&offer_type=flat&p={}&room1=1&room2=1&room3=1&room4=1&room5=1&room6=1'\n",
    "#ЮЗАО\n",
    "districts[6] = 'http://www.cian.ru/cat.php?deal_type=sale&district%5B0%5D=100&district%5B10%5D=110&district%5B11%5D=111&district%5B1%5D=101&district%5B2%5D=102&district%5B3%5D=103&district%5B4%5D=104&district%5B5%5D=105&district%5B6%5D=106&district%5B7%5D=107&district%5B8%5D=108&district%5B9%5D=109&engine_version=2&offer_type=flat&p={}&room1=1&room2=1&room3=1&room4=1&room5=1&room6=1'\n",
    "#ЗАО\n",
    "districts[7] = 'http://www.cian.ru/cat.php?deal_type=sale&district%5B0%5D=112&district%5B10%5D=122&district%5B11%5D=123&district%5B12%5D=124&district%5B13%5D=348&district%5B14%5D=349&district%5B15%5D=350&district%5B1%5D=113&district%5B2%5D=114&district%5B3%5D=115&district%5B4%5D=116&district%5B5%5D=117&district%5B6%5D=118&district%5B7%5D=119&district%5B8%5D=120&district%5B9%5D=121&engine_version=2&offer_type=flat&p={}&room1=1&room2=1&room3=1&room4=1&room5=1&room6=1'\n",
    "#СЗАО\n",
    "districts[8] = 'http://www.cian.ru/cat.php?deal_type=sale&district%5B0%5D=125&district%5B1%5D=126&district%5B2%5D=127&district%5B3%5D=128&district%5B4%5D=129&district%5B5%5D=130&district%5B6%5D=131&district%5B7%5D=132&engine_version=2&offer_type=flat&p={}&room1=1&room2=1&room3=1&room4=1&room5=1&room6=1'\n",
    "#ЗЕЛАО\n",
    "districts[9] = 'http://www.cian.ru/cat.php?deal_type=sale&district%5B0%5D=152&district%5B1%5D=153&district%5B2%5D=154&district%5B3%5D=355&district%5B4%5D=356&district%5B5%5D=357&district%5B6%5D=358&engine_version=2&offer_type=flat&p={}&room1=1&room2=1&room3=1&room4=1&room5=1&room6=1'\n",
    "#НАО\n",
    "districts[10] = 'http://www.cian.ru/cat.php?deal_type=sale&district%5B0%5D=327&district%5B10%5D=337&district%5B1%5D=328&district%5B2%5D=329&district%5B3%5D=330&district%5B4%5D=331&district%5B5%5D=332&district%5B6%5D=333&district%5B7%5D=334&district%5B8%5D=335&district%5B9%5D=336&engine_version=2&offer_type=flat&p={}&room1=1&room2=1&room3=1&room4=1&room5=1&room6=1'\n",
    "#ТАО\n",
    "districts[11] = 'http://www.cian.ru/cat.php?deal_type=sale&district%5B0%5D=338&district%5B1%5D=339&district%5B2%5D=340&district%5B3%5D=341&district"
   ]
  },
  {
   "cell_type": "code",
   "execution_count": null,
   "metadata": {
    "collapsed": true
   },
   "outputs": [],
   "source": [
    "links = [] #массив для ссылок на квартиры\n",
    "# Создадим датафрейм для 12 округов по 812 квартир в каждом\n",
    "\n",
    "df = pd.DataFrame(np.random.randn(812*12, 15), columns=['Rooms','Price','Totsp','Livesp','Kitsp','Dist','Metrdist','Walk','Brick','Tel','Bal','Floor','Nfloors','New','URL'])\n"
   ]
  },
  {
   "cell_type": "code",
   "execution_count": null,
   "metadata": {
    "collapsed": true
   },
   "outputs": [],
   "source": [
    "#Два цикла, первый по - округам, второй - по квартирам\n",
    "for i in range(0,12):\n",
    "    for page in range(1, 30):\n",
    "        page_url =  districts[i].format(page)\n",
    "        search_page = requests.get(page_url)\n",
    "        search_page = search_page.content\n",
    "        search_page = BeautifulSoup(search_page, 'lxml')\n",
    "        flat_urls = search_page.findAll('div', attrs = {'ng-class':\"{'serp-item_removed': offer.remove.state, 'serp-item_popup-opened': isPopupOpen}\"})\n",
    "        flat_urls = re.split('http://www.cian.ru/sale/flat/|/\" ng-class=\"', str(flat_urls))\n",
    "        for link in flat_urls:\n",
    "            if link.isdigit():\n",
    "                links.append(link)\n",
    "    for k in range(0,812):\n",
    "        flat_url = 'http://www.cian.ru/sale/flat/' + str(links[k]) + '/'\n",
    "        df.loc[k+i*812] = my_pars(flat_url)\n",
    "    \n",
    "df.to_csv(\"cian.csv\")"
   ]
  }
 ],
 "metadata": {
  "anaconda-cloud": {},
  "kernelspec": {
   "display_name": "Python [default]",
   "language": "python",
   "name": "python3"
  },
  "language_info": {
   "codemirror_mode": {
    "name": "ipython",
    "version": 3
   },
   "file_extension": ".py",
   "mimetype": "text/x-python",
   "name": "python",
   "nbconvert_exporter": "python",
   "pygments_lexer": "ipython3",
   "version": "3.5.2"
  }
 },
 "nbformat": 4,
 "nbformat_minor": 1
}
